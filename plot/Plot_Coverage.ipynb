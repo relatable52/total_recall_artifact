{
 "cells": [
  {
   "cell_type": "code",
   "execution_count": null,
   "id": "80cf73c6-f550-4c7e-b007-a573a4a9650e",
   "metadata": {},
   "outputs": [],
   "source": [
    "import pandas as pd\n",
    "\n",
    "def rename_cov_metric(metric: str) -> str:\n",
    "    if metric == 'class cov':\n",
    "        return 'class'\n",
    "    if metric == 'method cov':\n",
    "        return 'method'\n",
    "    if metric == 'branch cov':\n",
    "        return 'branch'\n",
    "    if metric == 'instruction cov':\n",
    "        return 'instruction'\n",
    "\n",
    "data1 = pd.read_csv('seed-corpus_fuzzing_manual-inspection.csv',\n",
    "                    usecols=['program', 'class cov', 'method cov', 'branch cov', 'instruction cov'])\n",
    "data1['input_corpus'] = 'seed corpus + fuzzing + manual inspection'\n",
    "\n",
    "data = pd.concat([data1])\n",
    "data = pd.melt(data.reset_index(),\n",
    "               id_vars=['program', 'input_corpus'],\n",
    "               value_vars=['class cov', 'method cov', 'branch cov', 'instruction cov'],\n",
    "               var_name='metric',\n",
    "               value_name='metric_value')\n",
    "data['metric'] = data['metric'].map(rename_cov_metric)\n",
    "data['metric_value'] = data['metric_value'] * 100\n",
    "\n",
    "data.set_index(['program', 'input_corpus', 'metric'])\n",
    "data"
   ]
  },
  {
   "cell_type": "code",
   "execution_count": null,
   "outputs": [],
   "source": [
    "import seaborn as sns\n",
    "from matplotlib import pyplot, ticker\n",
    "import math\n",
    "\n",
    "sns.set_theme(style=\"whitegrid\", palette='colorblind')\n",
    "sns.color_palette(\"colorblind\")\n",
    "\n",
    "# df = data.reindex(pd.MultiIndex.from_product(data.index.levels)).reset_index()\n",
    "df = data.reset_index()\n",
    "\n",
    "grid = sns.FacetGrid(data=df,\n",
    "                     row = 'metric'\n",
    "                     )\n",
    "grid.map_dataframe(sns.barplot,\n",
    "                   y='program',\n",
    "                   x='metric_value',\n",
    "                   hue='input_corpus',\n",
    "                   palette='colorblind')\n",
    "for axis in grid.axes:\n",
    "    axis[0].xaxis.set_major_formatter(ticker.FuncFormatter(lambda x, pos: '{:d}%'.format(int(x))))\n",
    "\n",
    "grid.set_axis_labels(\"Metric\", \"Program\")\n",
    "grid.set_titles(col_template=\"{col_name}\", row_template=\"{row_name}\")\n",
    "\n",
    "\n",
    "pyplot.savefig('coverage.png', dpi=300)\n",
    "pyplot.show()"
   ],
   "metadata": {
    "collapsed": false
   }
  }
 ],
 "metadata": {
  "kernelspec": {
   "display_name": "Python 3 (ipykernel)",
   "language": "python",
   "name": "python3"
  },
  "language_info": {
   "codemirror_mode": {
    "name": "ipython",
    "version": 3
   },
   "file_extension": ".py",
   "mimetype": "text/x-python",
   "name": "python",
   "nbconvert_exporter": "python",
   "pygments_lexer": "ipython3",
   "version": "3.10.11"
  }
 },
 "nbformat": 4,
 "nbformat_minor": 5
}
