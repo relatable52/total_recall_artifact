{
 "cells": [
  {
   "cell_type": "code",
   "execution_count": null,
   "id": "d924494c087e281d",
   "metadata": {
    "collapsed": false,
    "is_executing": true,
    "jupyter": {
     "outputs_hidden": false
    }
   },
   "outputs": [],
   "source": [
    "import random\n",
    "import pandas as pd\n",
    "\n",
    "def simulateRecall(iterations: int):\n",
    "    ground_truth: set[int] = set(range(iterations))\n",
    "    dynamic_callgraph: set[int] = set()\n",
    "    static_callgraph: set[int] = set(random.sample(list(range(int(iterations*1.5))), int(iterations/2)))\n",
    "    bounds = []\n",
    "    for idx in range(iterations):\n",
    "        if(random.choice([True,True,True,True,True,True,True,False])):\n",
    "            dynamic_callgraph.add(idx)\n",
    "        bounds.append(compute_bounds(ground_truth,dynamic_callgraph, static_callgraph))\n",
    "    return pd.DataFrame.from_records(bounds)\n",
    "\n",
    "def compute_bounds(ground_truth: set[int], dynamic_callgraph: set[int], static_callgraph: set[int]):\n",
    "    if dynamic_callgraph:\n",
    "        recall_sd = float(len(static_callgraph.intersection(dynamic_callgraph))) / float(len(dynamic_callgraph))\n",
    "    else:\n",
    "        recall_sd = float(0)\n",
    "    recall_sg = float(len(static_callgraph.intersection(ground_truth))) / float(len(ground_truth))\n",
    "    recall_dg = float(len(dynamic_callgraph.intersection(ground_truth))) / float(len(ground_truth))\n",
    "    return {\"lower_bound\": recall_sd * recall_dg, \n",
    "            \"recall_sg\": recall_sg,\n",
    "            \"recall_sd\": recall_sd,\n",
    "            \"upper_bound\": 1 - (1 - recall_sd) * recall_dg}"
   ]
  },
  {
   "cell_type": "code",
   "execution_count": null,
   "id": "ecda99a6d2dec848",
   "metadata": {
    "collapsed": false,
    "jupyter": {
     "outputs_hidden": false
    }
   },
   "outputs": [],
   "source": [
    "simulateRecall(10)"
   ]
  },
  {
   "cell_type": "code",
   "execution_count": null,
   "id": "c90e9c3a-e776-4004-a07c-d758bc308eaa",
   "metadata": {},
   "outputs": [],
   "source": [
    "import seaborn as sns\n",
    "\n",
    "data = simulateRecall(250)\n",
    "data['id'] = data.index\n",
    "data = data.melt(\n",
    "    id_vars = ['id'],\n",
    "    value_vars=['lower_bound', 'recall_sg', 'recall_sd', 'upper_bound'], \n",
    "    var_name='bound',\n",
    "    value_name='value')\n",
    "sns.lineplot(data=data, x='id', y='value', hue='bound')"
   ]
  },
  {
   "cell_type": "code",
   "execution_count": null,
   "id": "031ce0b3-59cf-47d9-b633-a1613f04e7b6",
   "metadata": {},
   "outputs": [],
   "source": []
  },
  {
   "cell_type": "code",
   "execution_count": null,
   "id": "f127b214-67c5-4dcc-9744-1b061eed19de",
   "metadata": {},
   "outputs": [],
   "source": []
  }
 ],
 "metadata": {
  "kernelspec": {
   "display_name": "Python 3 (ipykernel)",
   "language": "python",
   "name": "python3"
  },
  "language_info": {
   "codemirror_mode": {
    "name": "ipython",
    "version": 3
   },
   "file_extension": ".py",
   "mimetype": "text/x-python",
   "name": "python",
   "nbconvert_exporter": "python",
   "pygments_lexer": "ipython3",
   "version": "3.9.4"
  }
 },
 "nbformat": 4,
 "nbformat_minor": 5
}
